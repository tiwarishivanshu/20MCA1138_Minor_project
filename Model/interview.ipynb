{
 "cells": [
  {
   "cell_type": "code",
   "execution_count": 1,
   "id": "767cca0b",
   "metadata": {},
   "outputs": [],
   "source": [
    "# Assume s is a string of lower case characters.\n",
    "# Write a program that prints the number of times the string 'bob' occurs in s. For example, if s = 'azcbobobegghakl', then your\n",
    "# program should print\n",
    "# Number of times bob occurs is: 2"
   ]
  },
  {
   "cell_type": "code",
   "execution_count": 3,
   "id": "56f54e08",
   "metadata": {},
   "outputs": [
    {
     "name": "stdout",
     "output_type": "stream",
     "text": [
      "the word bob in the string is repeated  2  times\n"
     ]
    }
   ],
   "source": [
    "s=\"azcbobobegghakl\"\n",
    "def st(s):\n",
    "    count=0\n",
    "    for i in range(0,len(s)):\n",
    "        if s[i]=='b' and s[i+1]=='o' and s[i+2]=='b':\n",
    "            count+=1\n",
    "    if count>0:\n",
    "        return count\n",
    "cnt=st(s)\n",
    "print(\"the word bob in the string is repeated \", cnt,\" times\")"
   ]
  },
  {
   "cell_type": "code",
   "execution_count": null,
   "id": "8a1a20a6",
   "metadata": {},
   "outputs": [],
   "source": []
  }
 ],
 "metadata": {
  "kernelspec": {
   "display_name": "Python 3 (ipykernel)",
   "language": "python",
   "name": "python3"
  },
  "language_info": {
   "codemirror_mode": {
    "name": "ipython",
    "version": 3
   },
   "file_extension": ".py",
   "mimetype": "text/x-python",
   "name": "python",
   "nbconvert_exporter": "python",
   "pygments_lexer": "ipython3",
   "version": "3.8.10"
  }
 },
 "nbformat": 4,
 "nbformat_minor": 5
}
