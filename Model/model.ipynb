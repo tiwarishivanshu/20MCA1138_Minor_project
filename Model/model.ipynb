{
 "cells": [
  {
   "cell_type": "code",
   "execution_count": 1,
   "id": "joint-repository",
   "metadata": {},
   "outputs": [],
   "source": [
    "import pandas as pd\n",
    "import numpy as np\n",
    "from sklearn.model_selection import train_test_split\n",
    "import pickle"
   ]
  },
  {
   "cell_type": "code",
   "execution_count": 2,
   "id": "mounted-prophet",
   "metadata": {},
   "outputs": [],
   "source": [
    "train=pd.read_csv(\"train_cln.csv\")\n",
    "test=pd.read_csv(\"test_cln.csv\")"
   ]
  },
  {
   "cell_type": "code",
   "execution_count": 8,
   "id": "young-billy",
   "metadata": {},
   "outputs": [
    {
     "data": {
      "text/plain": [
       "Index(['Unnamed: 0', 'Location_encoded', 'Year', 'Kilometers_Driven',\n",
       "       'fuel_encoded', 'Transmission_encoder', 'Owner_Type_Encoding',\n",
       "       'Mileage', 'Engine', 'Power', 'Seats', 'New_Price', 'Price'],\n",
       "      dtype='object')"
      ]
     },
     "execution_count": 8,
     "metadata": {},
     "output_type": "execute_result"
    }
   ],
   "source": [
    "train.select_dtypes(['int','float']).keys()"
   ]
  },
  {
   "cell_type": "code",
   "execution_count": 9,
   "id": "equipped-transsexual",
   "metadata": {},
   "outputs": [
    {
     "data": {
      "text/plain": [
       "Index(['Unnamed: 0', 'Location_encoded', 'Year', 'Kilometers_Driven',\n",
       "       'fuel_encoded', 'Transmission_encoder', 'Owner_Type_Encoding',\n",
       "       'Mileage', 'Engine', 'Power', 'Seats', 'New_Price'],\n",
       "      dtype='object')"
      ]
     },
     "execution_count": 9,
     "metadata": {},
     "output_type": "execute_result"
    }
   ],
   "source": [
    "test.select_dtypes(['int','float']).keys()"
   ]
  },
  {
   "cell_type": "code",
   "execution_count": 10,
   "id": "short-kruger",
   "metadata": {},
   "outputs": [],
   "source": [
    "x=train[['Location_encoded', 'Year', 'Kilometers_Driven',\n",
    "       'fuel_encoded', 'Transmission_encoder', 'Owner_Type_Encoding',\n",
    "       'Mileage', 'Engine', 'Power', 'Seats','New_Price']]"
   ]
  },
  {
   "cell_type": "code",
   "execution_count": 11,
   "id": "smooth-graduate",
   "metadata": {},
   "outputs": [],
   "source": [
    "y=train[['Price']]"
   ]
  },
  {
   "cell_type": "code",
   "execution_count": 12,
   "id": "protecting-adolescent",
   "metadata": {},
   "outputs": [],
   "source": [
    "x_train,x_test,y_train,y_test=train_test_split(x,y,test_size=2,random_state=1)"
   ]
  },
  {
   "cell_type": "code",
   "execution_count": 13,
   "id": "artificial-monte",
   "metadata": {},
   "outputs": [],
   "source": [
    "from sklearn.tree import DecisionTreeRegressor\n",
    "clf=DecisionTreeRegressor(random_state=0)#algorithm import kiya"
   ]
  },
  {
   "cell_type": "code",
   "execution_count": 14,
   "id": "warming-estimate",
   "metadata": {},
   "outputs": [
    {
     "data": {
      "text/plain": [
       "DecisionTreeRegressor(random_state=0)"
      ]
     },
     "execution_count": 14,
     "metadata": {},
     "output_type": "execute_result"
    }
   ],
   "source": [
    "clf.fit(x_train,y_train) #datasset jo split kiya tha usse fit kiyaa hau algorithm me"
   ]
  },
  {
   "cell_type": "code",
   "execution_count": 15,
   "id": "eligible-north",
   "metadata": {},
   "outputs": [],
   "source": [
    "y_pred=clf.predict(x_test) #ye prediction hai"
   ]
  },
  {
   "cell_type": "code",
   "execution_count": 16,
   "id": "thermal-advocacy",
   "metadata": {},
   "outputs": [],
   "source": [
    "from sklearn.metrics import r2_score #ye accuracy verify krne ke lie ye technique hai"
   ]
  },
  {
   "cell_type": "code",
   "execution_count": 17,
   "id": "satellite-springfield",
   "metadata": {},
   "outputs": [
    {
     "data": {
      "text/plain": [
       "0.96571784833751"
      ]
     },
     "execution_count": 17,
     "metadata": {},
     "output_type": "execute_result"
    }
   ],
   "source": [
    "r2_score(y_test,y_pred)"
   ]
  },
  {
   "cell_type": "code",
   "execution_count": 18,
   "id": "amber-chorus",
   "metadata": {},
   "outputs": [],
   "source": [
    "filename=\"model.sav\"\n",
    "pickle.dump(clf,open(filename,'wb'))"
   ]
  },
  {
   "cell_type": "code",
   "execution_count": 19,
   "id": "84f0ad23",
   "metadata": {},
   "outputs": [],
   "source": [
    "with open(\"car.pkl\",\"wb+\") as f:\n",
    "    pickle.dump(clf,f)"
   ]
  },
  {
   "cell_type": "code",
   "execution_count": 62,
   "id": "a1d822c8",
   "metadata": {},
   "outputs": [
    {
     "data": {
      "text/plain": [
       "4.5"
      ]
     },
     "execution_count": 62,
     "metadata": {},
     "output_type": "execute_result"
    }
   ],
   "source": [
    "test=[[2,2011,46000,2,1,0,18,1199,89,5,9]]\n",
    "temp={}\n",
    "temp['location']=2\n",
    "temp['year']=2014\n",
    "temp['Kl']=32982\n",
    "temp['fule_type']=1\n",
    "temp['transmission']=0\n",
    "temp['owner']=0\n",
    "temp['Mileage']=23\n",
    "temp['Engine']=1995\n",
    "temp['Power']=190\n",
    "temp['Seats']=5\n",
    "temp['New_Price']=47.87\n",
    "testdata=pd.DataFrame({'x':temp}).transpose()\n",
    "clf.predict(test)[0]"
   ]
  },
  {
   "cell_type": "code",
   "execution_count": 63,
   "id": "c4a13933",
   "metadata": {},
   "outputs": [
    {
     "data": {
      "text/plain": [
       "{'location': 2,\n",
       " 'year': 2014,\n",
       " 'Kl': 32982,\n",
       " 'fule_type': 1,\n",
       " 'transmission': 0,\n",
       " 'owner': 0,\n",
       " 'Mileage': 23,\n",
       " 'Engine': 1995,\n",
       " 'Power': 190,\n",
       " 'Seats': 5,\n",
       " 'New_Price': 47.87}"
      ]
     },
     "execution_count": 63,
     "metadata": {},
     "output_type": "execute_result"
    }
   ],
   "source": [
    "temp"
   ]
  },
  {
   "cell_type": "code",
   "execution_count": 64,
   "id": "4d39ca88",
   "metadata": {},
   "outputs": [
    {
     "name": "stdout",
     "output_type": "stream",
     "text": [
      "2\n",
      "2014\n",
      "32982\n",
      "1\n",
      "0\n",
      "0\n",
      "23\n",
      "1995\n",
      "190\n",
      "5\n",
      "47.87\n"
     ]
    }
   ],
   "source": [
    "test=[]\n",
    "for i,j in temp.items():\n",
    "    print(j)\n",
    "    test.append(j)"
   ]
  },
  {
   "cell_type": "code",
   "execution_count": 66,
   "id": "95f7e6eb",
   "metadata": {},
   "outputs": [
    {
     "name": "stdout",
     "output_type": "stream",
     "text": [
      "[2, 2014, 32982, 1, 0, 0, 23, 1995, 190, 5, 47.87]\n",
      "[[2, 2014, 32982, 1, 0, 0, 23, 1995, 190, 5, 47.87]]\n"
     ]
    }
   ],
   "source": [
    "print(test)\n",
    "test=[test]\n",
    "print(test)"
   ]
  },
  {
   "cell_type": "code",
   "execution_count": 67,
   "id": "60ccd9e1",
   "metadata": {},
   "outputs": [
    {
     "data": {
      "text/plain": [
       "array([22.])"
      ]
     },
     "execution_count": 67,
     "metadata": {},
     "output_type": "execute_result"
    }
   ],
   "source": [
    "clf.predict(test)"
   ]
  },
  {
   "cell_type": "code",
   "execution_count": 4,
   "id": "709ef1d2",
   "metadata": {},
   "outputs": [
    {
     "data": {
      "text/html": [
       "<div>\n",
       "<style scoped>\n",
       "    .dataframe tbody tr th:only-of-type {\n",
       "        vertical-align: middle;\n",
       "    }\n",
       "\n",
       "    .dataframe tbody tr th {\n",
       "        vertical-align: top;\n",
       "    }\n",
       "\n",
       "    .dataframe thead th {\n",
       "        text-align: right;\n",
       "    }\n",
       "</style>\n",
       "<table border=\"1\" class=\"dataframe\">\n",
       "  <thead>\n",
       "    <tr style=\"text-align: right;\">\n",
       "      <th></th>\n",
       "      <th>Unnamed: 0</th>\n",
       "      <th>Name</th>\n",
       "      <th>Location</th>\n",
       "      <th>Location_encoded</th>\n",
       "      <th>Year</th>\n",
       "      <th>Kilometers_Driven</th>\n",
       "      <th>Fuel_Type</th>\n",
       "      <th>fuel_encoded</th>\n",
       "      <th>Transmission</th>\n",
       "      <th>Transmission_encoder</th>\n",
       "      <th>Owner_Type</th>\n",
       "      <th>Owner_Type_Encoding</th>\n",
       "      <th>Mileage</th>\n",
       "      <th>Engine</th>\n",
       "      <th>Power</th>\n",
       "      <th>Seats</th>\n",
       "      <th>New_Price</th>\n",
       "      <th>Price</th>\n",
       "    </tr>\n",
       "  </thead>\n",
       "  <tbody>\n",
       "    <tr>\n",
       "      <th>0</th>\n",
       "      <td>2</td>\n",
       "      <td>Honda Jazz V</td>\n",
       "      <td>Chennai</td>\n",
       "      <td>2</td>\n",
       "      <td>2011</td>\n",
       "      <td>46000</td>\n",
       "      <td>Petrol</td>\n",
       "      <td>2</td>\n",
       "      <td>Manual</td>\n",
       "      <td>1</td>\n",
       "      <td>First</td>\n",
       "      <td>0</td>\n",
       "      <td>18.20</td>\n",
       "      <td>1199.0</td>\n",
       "      <td>88.70</td>\n",
       "      <td>5.0</td>\n",
       "      <td>8.61</td>\n",
       "      <td>4.50</td>\n",
       "    </tr>\n",
       "    <tr>\n",
       "      <th>1</th>\n",
       "      <td>7</td>\n",
       "      <td>Toyota Innova Crysta 2.8 GX AT 8S</td>\n",
       "      <td>Mumbai</td>\n",
       "      <td>9</td>\n",
       "      <td>2016</td>\n",
       "      <td>36000</td>\n",
       "      <td>Diesel</td>\n",
       "      <td>1</td>\n",
       "      <td>Automatic</td>\n",
       "      <td>0</td>\n",
       "      <td>First</td>\n",
       "      <td>0</td>\n",
       "      <td>11.36</td>\n",
       "      <td>2755.0</td>\n",
       "      <td>171.50</td>\n",
       "      <td>8.0</td>\n",
       "      <td>21.00</td>\n",
       "      <td>17.50</td>\n",
       "    </tr>\n",
       "    <tr>\n",
       "      <th>2</th>\n",
       "      <td>10</td>\n",
       "      <td>Maruti Ciaz Zeta</td>\n",
       "      <td>Kochi</td>\n",
       "      <td>7</td>\n",
       "      <td>2018</td>\n",
       "      <td>25692</td>\n",
       "      <td>Petrol</td>\n",
       "      <td>2</td>\n",
       "      <td>Manual</td>\n",
       "      <td>1</td>\n",
       "      <td>First</td>\n",
       "      <td>0</td>\n",
       "      <td>21.56</td>\n",
       "      <td>1462.0</td>\n",
       "      <td>103.25</td>\n",
       "      <td>5.0</td>\n",
       "      <td>10.65</td>\n",
       "      <td>9.95</td>\n",
       "    </tr>\n",
       "    <tr>\n",
       "      <th>3</th>\n",
       "      <td>15</td>\n",
       "      <td>Mitsubishi Pajero Sport 4X4</td>\n",
       "      <td>Delhi</td>\n",
       "      <td>4</td>\n",
       "      <td>2014</td>\n",
       "      <td>110000</td>\n",
       "      <td>Diesel</td>\n",
       "      <td>1</td>\n",
       "      <td>Manual</td>\n",
       "      <td>1</td>\n",
       "      <td>First</td>\n",
       "      <td>0</td>\n",
       "      <td>13.50</td>\n",
       "      <td>2477.0</td>\n",
       "      <td>175.56</td>\n",
       "      <td>7.0</td>\n",
       "      <td>32.01</td>\n",
       "      <td>15.00</td>\n",
       "    </tr>\n",
       "    <tr>\n",
       "      <th>4</th>\n",
       "      <td>20</td>\n",
       "      <td>BMW 3 Series 320d</td>\n",
       "      <td>Kochi</td>\n",
       "      <td>7</td>\n",
       "      <td>2014</td>\n",
       "      <td>32982</td>\n",
       "      <td>Diesel</td>\n",
       "      <td>1</td>\n",
       "      <td>Automatic</td>\n",
       "      <td>0</td>\n",
       "      <td>First</td>\n",
       "      <td>0</td>\n",
       "      <td>22.69</td>\n",
       "      <td>1995.0</td>\n",
       "      <td>190.00</td>\n",
       "      <td>5.0</td>\n",
       "      <td>47.87</td>\n",
       "      <td>18.55</td>\n",
       "    </tr>\n",
       "  </tbody>\n",
       "</table>\n",
       "</div>"
      ],
      "text/plain": [
       "   Unnamed: 0                               Name Location  Location_encoded  \\\n",
       "0           2                       Honda Jazz V  Chennai                 2   \n",
       "1           7  Toyota Innova Crysta 2.8 GX AT 8S   Mumbai                 9   \n",
       "2          10                   Maruti Ciaz Zeta    Kochi                 7   \n",
       "3          15        Mitsubishi Pajero Sport 4X4    Delhi                 4   \n",
       "4          20                  BMW 3 Series 320d    Kochi                 7   \n",
       "\n",
       "   Year  Kilometers_Driven Fuel_Type  fuel_encoded Transmission  \\\n",
       "0  2011              46000    Petrol             2       Manual   \n",
       "1  2016              36000    Diesel             1    Automatic   \n",
       "2  2018              25692    Petrol             2       Manual   \n",
       "3  2014             110000    Diesel             1       Manual   \n",
       "4  2014              32982    Diesel             1    Automatic   \n",
       "\n",
       "   Transmission_encoder Owner_Type  Owner_Type_Encoding  Mileage  Engine  \\\n",
       "0                     1      First                    0    18.20  1199.0   \n",
       "1                     0      First                    0    11.36  2755.0   \n",
       "2                     1      First                    0    21.56  1462.0   \n",
       "3                     1      First                    0    13.50  2477.0   \n",
       "4                     0      First                    0    22.69  1995.0   \n",
       "\n",
       "    Power  Seats  New_Price  Price  \n",
       "0   88.70    5.0       8.61   4.50  \n",
       "1  171.50    8.0      21.00  17.50  \n",
       "2  103.25    5.0      10.65   9.95  \n",
       "3  175.56    7.0      32.01  15.00  \n",
       "4  190.00    5.0      47.87  18.55  "
      ]
     },
     "execution_count": 4,
     "metadata": {},
     "output_type": "execute_result"
    }
   ],
   "source": [
    "train.head(5)"
   ]
  },
  {
   "cell_type": "code",
   "execution_count": null,
   "id": "04bd7c9d",
   "metadata": {},
   "outputs": [],
   "source": []
  }
 ],
 "metadata": {
  "kernelspec": {
   "display_name": "Python 3 (ipykernel)",
   "language": "python",
   "name": "python3"
  },
  "language_info": {
   "codemirror_mode": {
    "name": "ipython",
    "version": 3
   },
   "file_extension": ".py",
   "mimetype": "text/x-python",
   "name": "python",
   "nbconvert_exporter": "python",
   "pygments_lexer": "ipython3",
   "version": "3.8.10"
  }
 },
 "nbformat": 4,
 "nbformat_minor": 5
}
